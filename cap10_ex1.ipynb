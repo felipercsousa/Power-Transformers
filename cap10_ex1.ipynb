{
 "cells": [
  {
   "cell_type": "markdown",
   "metadata": {},
   "source": [
    "Capítulo 10\n",
    "93) Projeto 3F 500 kVA óleo"
   ]
  },
  {
   "cell_type": "code",
   "execution_count": 84,
   "metadata": {},
   "outputs": [],
   "source": [
    "import numpy as np"
   ]
  },
  {
   "cell_type": "code",
   "execution_count": 85,
   "metadata": {},
   "outputs": [],
   "source": [
    "#Dados input\n",
    "Snom = 5000 #kVA\n",
    "f = 60 \n",
    "Vprim = 30000\n",
    "Vsec = 7200\n",
    "Lig = 'Yy'"
   ]
  },
  {
   "cell_type": "markdown",
   "metadata": {},
   "source": [
    "a) Perdas e cálculo no núcleo"
   ]
  },
  {
   "cell_type": "code",
   "execution_count": 87,
   "metadata": {},
   "outputs": [
    {
     "name": "stdout",
     "output_type": "stream",
     "text": [
      "Forma do nucleo - largura coluna e janela\n",
      "larg coluna 41  | Larg janela:  31.250000000000007\n",
      "Altura Coluna 89.96633527820408\n",
      "A massa do nucleo eh:  5188.524799737259  kg\n",
      "O comparativo das perdas são:  51.88524799737259  efetivo X  10  premissa inicial [kW]\n"
     ]
    }
   ],
   "source": [
    "#Input das perdas típicas\n",
    "Wfe = 10 #kW\n",
    "Wcu = 27.90 #kW\n",
    "\n",
    "#densidade de corrente\n",
    "densCorrente = 2.8 #A/mm²\n",
    "\n",
    "#perda especifica cobre\n",
    "Wcu_mass = 2.43*densCorrente**2 #W/kg\n",
    "\n",
    "#escolha do nucleo\n",
    "chapa = 'ARMCO-29-M14'\n",
    "esp_chapa = 0.356\n",
    "Wchapa = {\"10000\":1.14} #para B = 10000, Wfe = 1.14 W/kg\n",
    "Wchapa['10000']\n",
    "#máxima indução do núcleo\n",
    "Bmax = 13400\n",
    "Wferro = Wchapa['10000']*(Bmax/10000)**2  #W/kg\n",
    "\n",
    "#Tabela 223\n",
    "C = 38\n",
    "\n",
    "#secao do núcleo\n",
    "Sfe = C*np.sqrt((Snom*Wcu_mass*100000/Wferro)/(f*Wcu*densCorrente*Bmax/Wfe)) #cm2\n",
    "\n",
    "#coeficiente de enchimento\n",
    "Kf = 0.87\n",
    "Sfe = Sfe/Kf\n",
    "\n",
    "#secao geometrica - vide Fig 246\n",
    "Larg_coluna = 3*13+2*1\n",
    "Sfe_geometrica =(4*4*7 + 4*5*10.5 + 2*13*13 + 41*13)\n",
    "\n",
    "#altura travessa\n",
    "h = Sfe_geometrica / (3*13)\n",
    "\n",
    "#Calculo do fluxo maximo por coluna\n",
    "Sfe_geometrica = Sfe_geometrica*Kf\n",
    "Fluxo_maximo = Sfe_geometrica*Bmax\n",
    "\n",
    "#Espiras\n",
    "V_prim_fase = Vprim/np.sqrt(3)\n",
    "N_prim = V_prim_fase*1e8/(4.44*f*Fluxo_maximo)\n",
    "Iprim = Snom*1000/(3*V_prim_fase)\n",
    "\n",
    "#Consideração de densidades a cada enrolamento\n",
    "densCorrente_sec = densCorrente*1.05\n",
    "densCorrente_prim = densCorrente/1.05\n",
    "\n",
    "#secao das espiras\n",
    "S_espira_prim = Iprim/densCorrente_prim\n",
    "\n",
    "#Figura 225\n",
    "AmEsCm = 1000 #Ampere espira / cm\n",
    "AmpereEspiraColuna = 2*N_prim*Iprim\n",
    "\n",
    "#Altura da janela\n",
    "H_janela = 2*N_prim*Iprim/AmEsCm\n",
    "\n",
    "#Secao de cobre na janela\n",
    "Scu = 2*(2*N_prim*S_espira_prim)  #mm2\n",
    "\n",
    "#Tabela 229\n",
    "Fator_enchimento = 0.24\n",
    "\n",
    "#Largura Janela\n",
    "Larg_janela = Scu/(100*Fator_enchimento*H_janela)\n",
    "\n",
    "#print desenho do nucleo\n",
    "print('Forma do nucleo - largura coluna e janela')\n",
    "print('larg coluna',Larg_coluna,' | Larg janela: ' , Larg_janela)\n",
    "print('Altura Coluna', H_janela)\n",
    "\n",
    "#Peso do nucleo - Fig 234\n",
    "Mass_core = 7.8*Sfe_geometrica*(3*H_janela + 4*Larg_janela + 6*Larg_coluna)/1000\n",
    "print('A massa do nucleo eh: ',Mass_core, ' kg')\n",
    "\n",
    "#Comprimento da espira media - Paragrafo 83\n",
    "L_espira_media = np.pi*(Larg_coluna + 0.8*Larg_janela/2)/100 #metros\n",
    "\n",
    "#Peso do cobre\n",
    "Mass_cobre = 3*8.9*2*N_prim*S_espira_prim*L_espira_media/1000 #kg\n",
    "\n",
    "#comparativo de perdas\n",
    "Loss_core_effective = Wfe*Mass_core/1000\n",
    "\n",
    "print('O comparativo das perdas são: ',Loss_core_effective, ' efetivo X ', Wfe, ' premissa inicial [kW]')"
   ]
  }
 ],
 "metadata": {
  "kernelspec": {
   "display_name": "Python 3",
   "language": "python",
   "name": "python3"
  },
  "language_info": {
   "codemirror_mode": {
    "name": "ipython",
    "version": 3
   },
   "file_extension": ".py",
   "mimetype": "text/x-python",
   "name": "python",
   "nbconvert_exporter": "python",
   "pygments_lexer": "ipython3",
   "version": "3.12.2"
  }
 },
 "nbformat": 4,
 "nbformat_minor": 2
}
