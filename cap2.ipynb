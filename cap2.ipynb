{
 "cells": [
  {
   "cell_type": "markdown",
   "metadata": {},
   "source": [
    "Válido para transformadores inferiores a 800VA\n",
    "\n",
    "Cálculo da área da janela\n",
    "Sj = 0.5a * 1.5 a = 0.75* a^2"
   ]
  },
  {
   "cell_type": "code",
   "execution_count": 11,
   "metadata": {},
   "outputs": [],
   "source": [
    "#tabela numero da lamina padronizada versus A, em cm\n",
    "tab_N = {\"0\":1.5,\"1\":2,\"2\":2.5,\"3\":3,\"4\":3.5,\"5\":4,\"6\":5}\n",
    "N = \"5\"\n",
    "a = tab_N[N]*10\n",
    "Sj = 0.75*a**2"
   ]
  },
  {
   "cell_type": "markdown",
   "metadata": {},
   "source": [
    "Cálculo do peso do núcleo"
   ]
  },
  {
   "cell_type": "code",
   "execution_count": 6,
   "metadata": {},
   "outputs": [],
   "source": [
    "#Area frontal\n",
    "A = 6*a**2\n",
    "\n",
    "#espessura do nucleo, em mm\n",
    "esp = 10\n",
    "fator_esp = 0.9\n",
    "V = A*esp*fator_esp\n",
    "\n",
    "#peso especifico do ferro\n",
    "rho = 7.8\n",
    "mass_core = rho*V/1000 #g"
   ]
  },
  {
   "cell_type": "markdown",
   "metadata": {},
   "source": [
    "Dados para o cálculo\n",
    "\n"
   ]
  },
  {
   "cell_type": "code",
   "execution_count": 12,
   "metadata": {},
   "outputs": [],
   "source": [
    "W_out = 1\n",
    "V_sec = 1\n",
    "V_prim = 1\n",
    "total_losses = 0.1 # em pu\n",
    "Isec = W_out/V_sec\n",
    "W_in = W_out/total_losses\n",
    "Iprim = W_in/V_sec\n",
    "\n",
    "#tabela potencia versus densidade de corrente, em A/mm2\n",
    "tab_densidade = {\"500\":3,\"1000\":2.5,\"3000\":2}\n",
    "d = 3\n",
    "S_prim = Iprim/d #mm2\n",
    "S_sec = Isec/d #mm2\n",
    "\n"
   ]
  }
 ],
 "metadata": {
  "kernelspec": {
   "display_name": "Python 3",
   "language": "python",
   "name": "python3"
  },
  "language_info": {
   "codemirror_mode": {
    "name": "ipython",
    "version": 3
   },
   "file_extension": ".py",
   "mimetype": "text/x-python",
   "name": "python",
   "nbconvert_exporter": "python",
   "pygments_lexer": "ipython3",
   "version": "3.12.2"
  }
 },
 "nbformat": 4,
 "nbformat_minor": 2
}
